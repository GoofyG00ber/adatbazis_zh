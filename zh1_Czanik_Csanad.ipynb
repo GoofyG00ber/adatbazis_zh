{
    "metadata": {
        "kernelspec": {
            "name": "SQL",
            "display_name": "SQL",
            "language": "sql"
        },
        "language_info": {
            "name": "sql",
            "version": ""
        }
    },
    "nbformat_minor": 2,
    "nbformat": 4,
    "cells": [
        {
            "cell_type": "markdown",
            "source": [
                "1\\. feladat"
            ],
            "metadata": {
                "azdata_cell_guid": "2416cd4a-8fa2-4fce-8faf-5f2e425dc6e6"
            },
            "attachments": {}
        },
        {
            "cell_type": "code",
            "source": [
                "select nev, email from Vendeg\r\n",
                "where year(SZUL_DAT) between 1995 and 1999\r\n",
                "order by MONTH(SZUL_DAT) asc"
            ],
            "metadata": {
                "azdata_cell_guid": "0a3aad1b-1d56-4814-84a1-b2531efa31fd",
                "language": "sql"
            },
            "outputs": [
                {
                    "output_type": "display_data",
                    "data": {
                        "text/html": "(26 rows affected)"
                    },
                    "metadata": {}
                },
                {
                    "output_type": "display_data",
                    "data": {
                        "text/html": "Total execution time: 00:00:00.010"
                    },
                    "metadata": {}
                },
                {
                    "output_type": "execute_result",
                    "metadata": {},
                    "execution_count": 51,
                    "data": {
                        "application/vnd.dataresource+json": {
                            "schema": {
                                "fields": [
                                    {
                                        "name": "nev"
                                    },
                                    {
                                        "name": "email"
                                    }
                                ]
                            },
                            "data": [
                                {
                                    "nev": "Balogh Eszter",
                                    "email": "eszter.balogh@mail.hu"
                                },
                                {
                                    "nev": "Kispál Márk",
                                    "email": "márk.kispál@mail.hu"
                                },
                                {
                                    "nev": "Papós Tímea",
                                    "email": "timea@gmail.com"
                                },
                                {
                                    "nev": "Koza Máté",
                                    "email": "máté.koza@mail.hu"
                                },
                                {
                                    "nev": "Nagymihály Lajos",
                                    "email": "lajos.nagymihály@mail.hu"
                                },
                                {
                                    "nev": "Farkas Béla",
                                    "email": "BELAF@gmail.com"
                                },
                                {
                                    "nev": "Horváth Bálint",
                                    "email": "balint@gmail.com"
                                },
                                {
                                    "nev": "Erdei András",
                                    "email": "ANDRASE@gmail.com"
                                },
                                {
                                    "nev": "Szomor Andrea",
                                    "email": "andrea3@gmail.com"
                                },
                                {
                                    "nev": "Opra Attila",
                                    "email": "ATTILAO@gmail.com"
                                },
                                {
                                    "nev": "Sarodi Dóra",
                                    "email": "dóra.sarodi@mail.hu"
                                },
                                {
                                    "nev": "Urbán Viktoria",
                                    "email": "viktoria.urbán@mail.hu"
                                },
                                {
                                    "nev": "Zatykó Katalin",
                                    "email": "katalin.zatykó@mail.hu"
                                },
                                {
                                    "nev": "Nagy Sándor",
                                    "email": "sandor4@gmail.com"
                                },
                                {
                                    "nev": "Hídasi Judit",
                                    "email": "JUDITH@gmail.com"
                                },
                                {
                                    "nev": "Frank Fruzsina",
                                    "email": "fruzsina4@gmail.com"
                                },
                                {
                                    "nev": "Kovács Bernadett",
                                    "email": "bernadett.kovács@mail.hu"
                                },
                                {
                                    "nev": "Vukasinovity Bálint",
                                    "email": "balint2@gmail.com"
                                },
                                {
                                    "nev": "Horváth Márk",
                                    "email": "márk.horváth@mail.hu"
                                },
                                {
                                    "nev": "Tóth András",
                                    "email": "andrás.tóth@mail.hu"
                                },
                                {
                                    "nev": "Komjáti András",
                                    "email": "andras41@gmail.com"
                                },
                                {
                                    "nev": "Gondos Miklós",
                                    "email": "miklos2@gmail.com"
                                },
                                {
                                    "nev": "Tatár Nikoletta",
                                    "email": "nikoletta.tatár@mail.hu"
                                },
                                {
                                    "nev": "Fényes Tamás",
                                    "email": "TAMASF@gmail.com"
                                },
                                {
                                    "nev": "Baráth Mária",
                                    "email": "mária.baráth@mail.hu"
                                },
                                {
                                    "nev": "Vizi István",
                                    "email": "istván.vizi@mail.hu"
                                }
                            ]
                        },
                        "text/html": [
                            "<table>",
                            "<tr><th>nev</th><th>email</th></tr>",
                            "<tr><td>Balogh Eszter</td><td>eszter.balogh@mail.hu</td></tr>",
                            "<tr><td>Kispál Márk</td><td>márk.kispál@mail.hu</td></tr>",
                            "<tr><td>Papós Tímea</td><td>timea@gmail.com</td></tr>",
                            "<tr><td>Koza Máté</td><td>máté.koza@mail.hu</td></tr>",
                            "<tr><td>Nagymihály Lajos</td><td>lajos.nagymihály@mail.hu</td></tr>",
                            "<tr><td>Farkas Béla</td><td>BELAF@gmail.com</td></tr>",
                            "<tr><td>Horváth Bálint</td><td>balint@gmail.com</td></tr>",
                            "<tr><td>Erdei András</td><td>ANDRASE@gmail.com</td></tr>",
                            "<tr><td>Szomor Andrea</td><td>andrea3@gmail.com</td></tr>",
                            "<tr><td>Opra Attila</td><td>ATTILAO@gmail.com</td></tr>",
                            "<tr><td>Sarodi Dóra</td><td>dóra.sarodi@mail.hu</td></tr>",
                            "<tr><td>Urbán Viktoria</td><td>viktoria.urbán@mail.hu</td></tr>",
                            "<tr><td>Zatykó Katalin</td><td>katalin.zatykó@mail.hu</td></tr>",
                            "<tr><td>Nagy Sándor</td><td>sandor4@gmail.com</td></tr>",
                            "<tr><td>Hídasi Judit</td><td>JUDITH@gmail.com</td></tr>",
                            "<tr><td>Frank Fruzsina</td><td>fruzsina4@gmail.com</td></tr>",
                            "<tr><td>Kovács Bernadett</td><td>bernadett.kovács@mail.hu</td></tr>",
                            "<tr><td>Vukasinovity Bálint</td><td>balint2@gmail.com</td></tr>",
                            "<tr><td>Horváth Márk</td><td>márk.horváth@mail.hu</td></tr>",
                            "<tr><td>Tóth András</td><td>andrás.tóth@mail.hu</td></tr>",
                            "<tr><td>Komjáti András</td><td>andras41@gmail.com</td></tr>",
                            "<tr><td>Gondos Miklós</td><td>miklos2@gmail.com</td></tr>",
                            "<tr><td>Tatár Nikoletta</td><td>nikoletta.tatár@mail.hu</td></tr>",
                            "<tr><td>Fényes Tamás</td><td>TAMASF@gmail.com</td></tr>",
                            "<tr><td>Baráth Mária</td><td>mária.baráth@mail.hu</td></tr>",
                            "<tr><td>Vizi István</td><td>istván.vizi@mail.hu</td></tr>",
                            "</table>"
                        ]
                    }
                }
            ],
            "execution_count": 51
        },
        {
            "cell_type": "markdown",
            "source": [
                "2\\. feladat"
            ],
            "metadata": {
                "language": "sql",
                "azdata_cell_guid": "9d779680-0491-4524-b480-614edcf044e8"
            },
            "attachments": {}
        },
        {
            "cell_type": "code",
            "source": [
                "select SZOBA_SZAMA, count(SZOBA_FK) as 'Foglalasok szama'\r\n",
                "from Foglalas f join Szoba sz on f.SZOBA_FK = sz.SZOBA_ID\r\n",
                "where FELNOTT_SZAM > GYERMEK_SZAM\r\n",
                "group by SZOBA_SZAMA, FOGLALAS_PK\r\n",
                "having count(SZOBA_FK) > 2\r\n",
                "order by FOGLALAS_PK asc"
            ],
            "metadata": {
                "azdata_cell_guid": "1449423b-db12-4730-b775-4ae2a053b89b",
                "language": "sql"
            },
            "outputs": [
                {
                    "output_type": "display_data",
                    "data": {
                        "text/html": "(0 rows affected)"
                    },
                    "metadata": {}
                },
                {
                    "output_type": "display_data",
                    "data": {
                        "text/html": "Total execution time: 00:00:00.002"
                    },
                    "metadata": {}
                },
                {
                    "output_type": "execute_result",
                    "metadata": {},
                    "execution_count": 52,
                    "data": {
                        "application/vnd.dataresource+json": {
                            "schema": {
                                "fields": [
                                    {
                                        "name": "SZOBA_SZAMA"
                                    },
                                    {
                                        "name": "Foglalasok szama"
                                    }
                                ]
                            },
                            "data": []
                        },
                        "text/html": [
                            "<table>",
                            "<tr><th>SZOBA_SZAMA</th><th>Foglalasok szama</th></tr>",
                            "</table>"
                        ]
                    }
                }
            ],
            "execution_count": 52
        },
        {
            "cell_type": "code",
            "source": [
                "select SZOBA_FK, count(*) from Foglalas\r\n",
                "where FELNOTT_SZAM > GYERMEK_SZAM\r\n",
                "group by SZOBA_FK, FOGLALAS_PK\r\n",
                "having count(*) > 2\r\n",
                "order by FOGLALAS_PK asc"
            ],
            "metadata": {
                "azdata_cell_guid": "b6b1531f-7a5b-4e7b-98cb-514a768c1d49",
                "language": "sql"
            },
            "outputs": [
                {
                    "output_type": "display_data",
                    "data": {
                        "text/html": "(0 rows affected)"
                    },
                    "metadata": {}
                },
                {
                    "output_type": "display_data",
                    "data": {
                        "text/html": "Total execution time: 00:00:00.010"
                    },
                    "metadata": {}
                },
                {
                    "output_type": "execute_result",
                    "metadata": {},
                    "execution_count": 53,
                    "data": {
                        "application/vnd.dataresource+json": {
                            "schema": {
                                "fields": [
                                    {
                                        "name": "SZOBA_FK"
                                    },
                                    {
                                        "name": "(No column name)"
                                    }
                                ]
                            },
                            "data": []
                        },
                        "text/html": [
                            "<table>",
                            "<tr><th>SZOBA_FK</th><th>(No column name)</th></tr>",
                            "</table>"
                        ]
                    }
                }
            ],
            "execution_count": 53
        },
        {
            "cell_type": "markdown",
            "source": [
                "3\\. feladat"
            ],
            "metadata": {
                "language": "sql",
                "azdata_cell_guid": "3aad3ff6-c7cb-4df1-8080-b344927c08c2"
            },
            "attachments": {}
        },
        {
            "cell_type": "code",
            "source": [
                "select szoba_ID as 'szoba azonosito', YEAR(METTOL) as 'évszám', count(*) as 'foglalasok szama'\r\n",
                "from Foglalas f join Szoba sz on f.SZOBA_FK = sz.SZOBA_ID\r\n",
                "where SZOBA_SZAMA % 2 = 1\r\n",
                "group by szoba_ID, YEAR(METTOL)\r\n",
                "having count(*) > 10"
            ],
            "metadata": {
                "azdata_cell_guid": "88918be1-fa56-4866-ae29-4dbfa7e0c7b6",
                "language": "sql"
            },
            "outputs": [
                {
                    "output_type": "display_data",
                    "data": {
                        "text/html": "(1 row affected)"
                    },
                    "metadata": {}
                },
                {
                    "output_type": "display_data",
                    "data": {
                        "text/html": "Total execution time: 00:00:00.005"
                    },
                    "metadata": {}
                },
                {
                    "output_type": "execute_result",
                    "metadata": {},
                    "execution_count": 54,
                    "data": {
                        "application/vnd.dataresource+json": {
                            "schema": {
                                "fields": [
                                    {
                                        "name": "szoba azonosito"
                                    },
                                    {
                                        "name": "évszám"
                                    },
                                    {
                                        "name": "foglalasok szama"
                                    }
                                ]
                            },
                            "data": [
                                {
                                    "szoba azonosito": "58",
                                    "évszám": "2016",
                                    "foglalasok szama": "12"
                                }
                            ]
                        },
                        "text/html": [
                            "<table>",
                            "<tr><th>szoba azonosito</th><th>évszám</th><th>foglalasok szama</th></tr>",
                            "<tr><td>58</td><td>2016</td><td>12</td></tr>",
                            "</table>"
                        ]
                    }
                }
            ],
            "execution_count": 54
        }
    ]
}